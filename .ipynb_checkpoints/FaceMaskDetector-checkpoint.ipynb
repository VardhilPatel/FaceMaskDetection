{
 "cells": [
  {
   "cell_type": "markdown",
   "id": "33749321",
   "metadata": {},
   "source": [
    "#### IMPORTING LIBRARIES"
   ]
  },
  {
   "cell_type": "code",
   "execution_count": 1,
   "id": "839dc6ec",
   "metadata": {},
   "outputs": [],
   "source": [
    "import numpy as np\n",
    "import tensorflow.keras.backend as k\n",
    "from tensorflow.keras.layers import Conv2D,MaxPooling2D,SpatialDropout2D,Flatten,Dropout,Dense\n",
    "from tensorflow.keras.models import Sequential,load_model\n",
    "from tensorflow.keras.optimizers import Adam\n",
    "from tensorflow.keras.preprocessing import image\n",
    "import cv2\n",
    "import datetime"
   ]
  },
  {
   "cell_type": "markdown",
   "id": "5b878ed4",
   "metadata": {},
   "source": [
    "#### BUILDING CNN NETWORK"
   ]
  },
  {
   "cell_type": "code",
   "execution_count": 2,
   "id": "e355185d",
   "metadata": {},
   "outputs": [],
   "source": [
    "model=Sequential()\n",
    "model.add(Conv2D(32,(3,3),activation='relu',input_shape=(150,150,3)))\n",
    "model.add(MaxPooling2D() )\n",
    "model.add(Conv2D(32,(3,3),activation='relu'))\n",
    "model.add(MaxPooling2D() )\n",
    "model.add(Conv2D(32,(3,3),activation='relu'))\n",
    "model.add(MaxPooling2D() )\n",
    "model.add(Flatten())\n",
    "model.add(Dense(100,activation='relu'))\n",
    "model.add(Dense(1,activation='sigmoid'))\n",
    "\n",
    "model.compile(optimizer='adam',loss='binary_crossentropy',metrics=['accuracy'])"
   ]
  },
  {
   "cell_type": "markdown",
   "id": "f8901099",
   "metadata": {},
   "source": [
    "#### TRAINING DATASET"
   ]
  },
  {
   "cell_type": "code",
   "execution_count": 3,
   "id": "3e8c8c91",
   "metadata": {},
   "outputs": [
    {
     "name": "stdout",
     "output_type": "stream",
     "text": [
      "Found 1314 images belonging to 2 classes.\n",
      "Found 194 images belonging to 2 classes.\n"
     ]
    },
    {
     "name": "stderr",
     "output_type": "stream",
     "text": [
      "D:\\Anaconda\\lib\\site-packages\\tensorflow\\python\\keras\\engine\\training.py:1940: UserWarning: `Model.fit_generator` is deprecated and will be removed in a future version. Please use `Model.fit`, which supports generators.\n",
      "  warnings.warn('`Model.fit_generator` is deprecated and '\n"
     ]
    },
    {
     "name": "stdout",
     "output_type": "stream",
     "text": [
      "Epoch 1/10\n",
      "83/83 [==============================] - 47s 547ms/step - loss: 0.4915 - accuracy: 0.7565 - val_loss: 0.1767 - val_accuracy: 0.9227\n",
      "Epoch 2/10\n",
      "83/83 [==============================] - 41s 491ms/step - loss: 0.1800 - accuracy: 0.9292 - val_loss: 0.1295 - val_accuracy: 0.9536\n",
      "Epoch 3/10\n",
      "83/83 [==============================] - 41s 499ms/step - loss: 0.1227 - accuracy: 0.9589 - val_loss: 0.0885 - val_accuracy: 0.9691\n",
      "Epoch 4/10\n",
      "83/83 [==============================] - 42s 503ms/step - loss: 0.1123 - accuracy: 0.9597 - val_loss: 0.1029 - val_accuracy: 0.9588\n",
      "Epoch 5/10\n",
      "83/83 [==============================] - 42s 496ms/step - loss: 0.0985 - accuracy: 0.9589 - val_loss: 0.1084 - val_accuracy: 0.9742\n",
      "Epoch 6/10\n",
      "83/83 [==============================] - 42s 500ms/step - loss: 0.1076 - accuracy: 0.9612 - val_loss: 0.1124 - val_accuracy: 0.9742\n",
      "Epoch 7/10\n",
      "83/83 [==============================] - 44s 526ms/step - loss: 0.0793 - accuracy: 0.9703 - val_loss: 0.1334 - val_accuracy: 0.9433\n",
      "Epoch 8/10\n",
      "83/83 [==============================] - 46s 545ms/step - loss: 0.0690 - accuracy: 0.9764 - val_loss: 0.0782 - val_accuracy: 0.9742\n",
      "Epoch 9/10\n",
      "83/83 [==============================] - 46s 549ms/step - loss: 0.0727 - accuracy: 0.9734 - val_loss: 0.0816 - val_accuracy: 0.9691\n",
      "Epoch 10/10\n",
      "83/83 [==============================] - 46s 549ms/step - loss: 0.0480 - accuracy: 0.9810 - val_loss: 0.0721 - val_accuracy: 0.9742\n"
     ]
    }
   ],
   "source": [
    "from tensorflow.keras.preprocessing.image import ImageDataGenerator\n",
    "train_datagen = ImageDataGenerator(\n",
    "        rescale=1./255,\n",
    "        shear_range=0.2,\n",
    "        zoom_range=0.2,\n",
    "        horizontal_flip=True)\n",
    "\n",
    "test_datagen = ImageDataGenerator(rescale=1./255)\n",
    "\n",
    "training_set = train_datagen.flow_from_directory(\n",
    "        'train',\n",
    "        target_size=(150,150),\n",
    "        batch_size=16 ,\n",
    "        class_mode='binary')\n",
    "\n",
    "test_set = test_datagen.flow_from_directory(\n",
    "        'test',\n",
    "        target_size=(150,150),\n",
    "        batch_size=16,\n",
    "        class_mode='binary')\n",
    "\n",
    "model_saved=model.fit_generator(\n",
    "        training_set,\n",
    "        epochs=10,\n",
    "        validation_data=test_set,\n",
    "\n",
    "        )\n",
    "\n",
    "model.save('mymodel.h5',model_saved)"
   ]
  },
  {
   "cell_type": "markdown",
   "id": "6b9bad58",
   "metadata": {},
   "source": [
    "#### TESTING MODEL ON IMAGES"
   ]
  },
  {
   "cell_type": "code",
   "execution_count": 4,
   "id": "90122b24",
   "metadata": {},
   "outputs": [
    {
     "data": {
      "text/plain": [
       "0.0"
      ]
     },
     "execution_count": 4,
     "metadata": {},
     "output_type": "execute_result"
    }
   ],
   "source": [
    "mymodel=load_model('mymodel.h5')\n",
    "test_image=image.load_img(r'D:/FaceMaskDetector/test/with_mask/5-with-mask.jpg',target_size=(150,150,3))\n",
    "test_image\n",
    "test_image=image.img_to_array(test_image)\n",
    "test_image=np.expand_dims(test_image,axis=0)\n",
    "mymodel.predict(test_image)[0][0]"
   ]
  },
  {
   "cell_type": "code",
   "execution_count": 7,
   "id": "93dafeda",
   "metadata": {},
   "outputs": [
    {
     "data": {
      "text/plain": [
       "1.0"
      ]
     },
     "execution_count": 7,
     "metadata": {},
     "output_type": "execute_result"
    }
   ],
   "source": [
    "test_image=image.load_img(r'D:/FaceMaskDetector/test/without_mask/0.jpg',target_size=(150,150,3))\n",
    "test_image\n",
    "test_image=image.img_to_array(test_image)\n",
    "test_image=np.expand_dims(test_image,axis=0)\n",
    "mymodel.predict(test_image)[0][0]"
   ]
  },
  {
   "cell_type": "markdown",
   "id": "6f3971a3",
   "metadata": {},
   "source": [
    "#### TESTING THE MODEL ON WEBCAM"
   ]
  },
  {
   "cell_type": "code",
   "execution_count": 8,
   "id": "eac9dea2",
   "metadata": {},
   "outputs": [],
   "source": [
    "mymodel=load_model('mymodel.h5')\n",
    "\n",
    "cap=cv2.VideoCapture(0)\n",
    "face_cascade=cv2.CascadeClassifier('haarcascade_frontalface_default.xml')\n",
    "\n",
    "while cap.isOpened():\n",
    "    _,img=cap.read()\n",
    "    face=face_cascade.detectMultiScale(img,scaleFactor=1.1,minNeighbors=4)\n",
    "    for(x,y,w,h) in face:\n",
    "        face_img = img[y:y+h, x:x+w]\n",
    "        cv2.imwrite('temp.jpg',face_img)\n",
    "        test_image=image.load_img('temp.jpg',target_size=(150,150,3))\n",
    "        test_image=image.img_to_array(test_image)\n",
    "        test_image=np.expand_dims(test_image,axis=0)\n",
    "        pred=mymodel.predict(test_image)[0][0]\n",
    "        if pred==1:\n",
    "            cv2.rectangle(img,(x,y),(x+w,y+h),(0,0,255),3)\n",
    "            cv2.putText(img,'NO MASK',((x+w)//2,y+h+20),cv2.FONT_HERSHEY_SIMPLEX,1,(0,0,255),3)\n",
    "        else:\n",
    "            cv2.rectangle(img,(x,y),(x+w,y+h),(0,255,0),3)\n",
    "            cv2.putText(img,'MASK',((x+w)//2,y+h+20),cv2.FONT_HERSHEY_SIMPLEX,1,(0,255,0),3)\n",
    "        datet=str(datetime.datetime.now())\n",
    "        cv2.putText(img,datet,(400,450),cv2.FONT_HERSHEY_SIMPLEX,0.5,(255,255,255),1)\n",
    "          \n",
    "    cv2.imshow('img',img)\n",
    "    \n",
    "    if cv2.waitKey(1)==ord('q'):\n",
    "        break\n",
    "    \n",
    "cap.release()\n",
    "cv2.destroyAllWindows()"
   ]
  },
  {
   "cell_type": "code",
   "execution_count": null,
   "id": "6fd645f4",
   "metadata": {},
   "outputs": [],
   "source": []
  }
 ],
 "metadata": {
  "kernelspec": {
   "display_name": "Python 3",
   "language": "python",
   "name": "python3"
  },
  "language_info": {
   "codemirror_mode": {
    "name": "ipython",
    "version": 3
   },
   "file_extension": ".py",
   "mimetype": "text/x-python",
   "name": "python",
   "nbconvert_exporter": "python",
   "pygments_lexer": "ipython3",
   "version": "3.8.8"
  }
 },
 "nbformat": 4,
 "nbformat_minor": 5
}
