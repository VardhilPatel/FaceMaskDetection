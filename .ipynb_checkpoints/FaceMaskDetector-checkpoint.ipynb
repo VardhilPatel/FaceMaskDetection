{
 "cells": [
  {
   "cell_type": "code",
   "execution_count": 2,
   "id": "839dc6ec",
   "metadata": {},
   "outputs": [],
   "source": [
    "import numpy as np\n",
    "import tensorflow.keras.backend as k\n",
    "from tensorflow.keras.layers import Conv2D,MaxPooling2D,SpatialDropout2D,Flatten,Dropout,Dense\n",
    "from tensorflow.keras.models import Sequential,load_model\n",
    "from tensorflow.keras.optimizers import Adam\n",
    "from tensorflow.keras.preprocessing import image\n",
    "import cv2\n",
    "import datetime"
   ]
  },
  {
   "cell_type": "code",
   "execution_count": 3,
   "id": "e355185d",
   "metadata": {},
   "outputs": [],
   "source": [
    "model=Sequential()\n",
    "model.add(Conv2D(32,(3,3),activation='relu',input_shape=(150,150,3)))\n",
    "model.add(MaxPooling2D() )\n",
    "model.add(Conv2D(32,(3,3),activation='relu'))\n",
    "model.add(MaxPooling2D() )\n",
    "model.add(Conv2D(32,(3,3),activation='relu'))\n",
    "model.add(MaxPooling2D() )\n",
    "model.add(Flatten())\n",
    "model.add(Dense(100,activation='relu'))\n",
    "model.add(Dense(1,activation='sigmoid'))\n",
    "\n",
    "model.compile(optimizer='adam',loss='binary_crossentropy',metrics=['accuracy'])"
   ]
  },
  {
   "cell_type": "code",
   "execution_count": 5,
   "id": "3e8c8c91",
   "metadata": {},
   "outputs": [
    {
     "name": "stdout",
     "output_type": "stream",
     "text": [
      "Found 1314 images belonging to 2 classes.\n",
      "Found 194 images belonging to 2 classes.\n"
     ]
    },
    {
     "name": "stderr",
     "output_type": "stream",
     "text": [
      "D:\\Anaconda\\lib\\site-packages\\tensorflow\\python\\keras\\engine\\training.py:1940: UserWarning: `Model.fit_generator` is deprecated and will be removed in a future version. Please use `Model.fit`, which supports generators.\n",
      "  warnings.warn('`Model.fit_generator` is deprecated and '\n"
     ]
    },
    {
     "name": "stdout",
     "output_type": "stream",
     "text": [
      "Epoch 1/10\n",
      "83/83 [==============================] - 36s 427ms/step - loss: 0.4347 - accuracy: 0.7755 - val_loss: 0.1364 - val_accuracy: 0.9588\n",
      "Epoch 2/10\n",
      "83/83 [==============================] - 30s 357ms/step - loss: 0.2102 - accuracy: 0.9170 - val_loss: 0.1216 - val_accuracy: 0.9639\n",
      "Epoch 3/10\n",
      "83/83 [==============================] - 33s 396ms/step - loss: 0.1713 - accuracy: 0.9429 - val_loss: 0.0982 - val_accuracy: 0.9691\n",
      "Epoch 4/10\n",
      "83/83 [==============================] - 32s 386ms/step - loss: 0.1083 - accuracy: 0.9581 - val_loss: 0.1028 - val_accuracy: 0.9691\n",
      "Epoch 5/10\n",
      "83/83 [==============================] - 32s 382ms/step - loss: 0.1052 - accuracy: 0.9627 - val_loss: 0.0727 - val_accuracy: 0.9794\n",
      "Epoch 6/10\n",
      "83/83 [==============================] - 32s 381ms/step - loss: 0.0739 - accuracy: 0.9726 - val_loss: 0.0910 - val_accuracy: 0.9691\n",
      "Epoch 7/10\n",
      "83/83 [==============================] - 32s 385ms/step - loss: 0.0768 - accuracy: 0.9703 - val_loss: 0.0984 - val_accuracy: 0.9691\n",
      "Epoch 8/10\n",
      "83/83 [==============================] - 32s 382ms/step - loss: 0.0695 - accuracy: 0.9726 - val_loss: 0.0893 - val_accuracy: 0.9742\n",
      "Epoch 9/10\n",
      "83/83 [==============================] - 33s 393ms/step - loss: 0.0672 - accuracy: 0.9726 - val_loss: 0.0704 - val_accuracy: 0.9742\n",
      "Epoch 10/10\n",
      "83/83 [==============================] - 32s 381ms/step - loss: 0.0450 - accuracy: 0.9825 - val_loss: 0.0748 - val_accuracy: 0.9794\n"
     ]
    }
   ],
   "source": [
    "from tensorflow.keras.preprocessing.image import ImageDataGenerator\n",
    "train_datagen = ImageDataGenerator(\n",
    "        rescale=1./255,\n",
    "        shear_range=0.2,\n",
    "        zoom_range=0.2,\n",
    "        horizontal_flip=True)\n",
    "\n",
    "test_datagen = ImageDataGenerator(rescale=1./255)\n",
    "\n",
    "training_set = train_datagen.flow_from_directory(\n",
    "        'train',\n",
    "        target_size=(150,150),\n",
    "        batch_size=16 ,\n",
    "        class_mode='binary')\n",
    "\n",
    "test_set = test_datagen.flow_from_directory(\n",
    "        'test',\n",
    "        target_size=(150,150),\n",
    "        batch_size=16,\n",
    "        class_mode='binary')\n",
    "\n",
    "model_saved=model.fit_generator(\n",
    "        training_set,\n",
    "        epochs=10,\n",
    "        validation_data=test_set,\n",
    "\n",
    "        )\n",
    "\n",
    "model.save('mymodel.h5',model_saved)"
   ]
  },
  {
   "cell_type": "code",
   "execution_count": 7,
   "id": "90122b24",
   "metadata": {},
   "outputs": [
    {
     "data": {
      "text/plain": [
       "0.0"
      ]
     },
     "execution_count": 7,
     "metadata": {},
     "output_type": "execute_result"
    }
   ],
   "source": [
    "mymodel=load_model('mymodel.h5')\n",
    "#test_image=image.load_img('C:/Users/Karan/Desktop/ML Datasets/Face Mask Detection/Dataset/test/without_mask/30.jpg',target_size=(150,150,3))\n",
    "test_image=image.load_img(r'D:/FaceMaskDetector-master/test/with_mask/5-with-mask.jpg',\n",
    "                          target_size=(150,150,3))\n",
    "test_image\n",
    "test_image=image.img_to_array(test_image)\n",
    "test_image=np.expand_dims(test_image,axis=0)\n",
    "mymodel.predict(test_image)[0][0]"
   ]
  },
  {
   "cell_type": "code",
   "execution_count": 8,
   "id": "93dafeda",
   "metadata": {},
   "outputs": [
    {
     "data": {
      "text/plain": [
       "1.0"
      ]
     },
     "execution_count": 8,
     "metadata": {},
     "output_type": "execute_result"
    }
   ],
   "source": [
    "test_image=image.load_img(r'D:/FaceMaskDetector-master/test/without_mask/0.jpg',\n",
    "                          target_size=(150,150,3))\n",
    "test_image\n",
    "test_image=image.img_to_array(test_image)\n",
    "test_image=np.expand_dims(test_image,axis=0)\n",
    "mymodel.predict(test_image)[0][0]"
   ]
  },
  {
   "cell_type": "code",
   "execution_count": null,
   "id": "eac9dea2",
   "metadata": {},
   "outputs": [],
   "source": []
  }
 ],
 "metadata": {
  "kernelspec": {
   "display_name": "Python 3",
   "language": "python",
   "name": "python3"
  },
  "language_info": {
   "codemirror_mode": {
    "name": "ipython",
    "version": 3
   },
   "file_extension": ".py",
   "mimetype": "text/x-python",
   "name": "python",
   "nbconvert_exporter": "python",
   "pygments_lexer": "ipython3",
   "version": "3.8.8"
  }
 },
 "nbformat": 4,
 "nbformat_minor": 5
}
